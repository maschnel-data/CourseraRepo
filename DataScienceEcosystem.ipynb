{
 "cells": [
  {
   "cell_type": "markdown",
   "id": "38bbb2a7-7440-42a9-b588-0d502198d8f6",
   "metadata": {},
   "source": [
    "# Data Science Tools and Ecosystem"
   ]
  },
  {
   "cell_type": "markdown",
   "id": "d2debf74-5ad9-4d5b-a50b-97b9131c102e",
   "metadata": {},
   "source": [
    "In this Notebook, Data Science Tools and Ecosystem are summarized."
   ]
  },
  {
   "cell_type": "markdown",
   "id": "19980fab-95e2-446b-9af8-bacbdd9ff229",
   "metadata": {},
   "source": [
    "**Objectives**\n",
    "- Popular languages for Data Science\n",
    "- Popular libraries for Data Science\n",
    "- Popular tools for Data Science\n",
    "- Arithmetic expressions examples"
   ]
  },
  {
   "cell_type": "markdown",
   "id": "dbb2e78c-4289-481f-8527-79751773e6d3",
   "metadata": {},
   "source": [
    "Some of the popular languages that Data Scientists use are:     \n",
    "\n",
    "1. Python\n",
    "2. R\n",
    "3. SQL\n",
    "4. Scala/Java\n",
    "5. Julia"
   ]
  },
  {
   "cell_type": "markdown",
   "id": "3eea2f4b-6c77-49d8-ae82-d0fa151a21e8",
   "metadata": {},
   "source": [
    "Some of the commonly used libraries used by Data Scientists include: \n",
    "\n",
    "1. Pandas\n",
    "2. NumPy\n",
    "3. Matplotlib\n",
    "4. Scikit-learn "
   ]
  },
  {
   "cell_type": "markdown",
   "id": "c71818cf-7a1c-4fa5-b7b5-9a0e7e1d9315",
   "metadata": {},
   "source": [
    "|Data Science Tools|\n",
    "|---|\n",
    "|Jupyter Notebook|\n",
    "|JupyterLab|\n",
    "|RStudios|"
   ]
  },
  {
   "cell_type": "markdown",
   "id": "ea0d8980-09a2-45fc-a1eb-634d51858ac9",
   "metadata": {},
   "source": [
    "### Below are a few examples of evaluating arithmetic expressions in Python"
   ]
  },
  {
   "cell_type": "code",
   "execution_count": 8,
   "id": "70fa91d6-ba03-4cf8-a426-72e7ac15c186",
   "metadata": {},
   "outputs": [
    {
     "data": {
      "text/plain": [
       "17"
      ]
     },
     "execution_count": 8,
     "metadata": {},
     "output_type": "execute_result"
    }
   ],
   "source": [
    "# This a simple arithmetic expression to mutiply then add integers\n",
    "\n",
    "(3*4)+5"
   ]
  },
  {
   "cell_type": "code",
   "execution_count": 11,
   "id": "a0e897fa-564b-40c3-aa39-eae9d362f631",
   "metadata": {},
   "outputs": [
    {
     "data": {
      "text/plain": [
       "3.3333333333333335"
      ]
     },
     "execution_count": 11,
     "metadata": {},
     "output_type": "execute_result"
    }
   ],
   "source": [
    "# This will convert 200 minutes to hours by dividing by 60\n",
    "\n",
    "200/60 \n"
   ]
  },
  {
   "cell_type": "markdown",
   "id": "e8b23cb5-8a27-493d-8ca3-d530536a5cd2",
   "metadata": {},
   "source": [
    "## Author\n",
    "Toni Ginco"
   ]
  },
  {
   "cell_type": "code",
   "execution_count": null,
   "id": "e2c73c6e-3878-463f-b7e4-299fa5334e5b",
   "metadata": {},
   "outputs": [],
   "source": []
  }
 ],
 "metadata": {
  "kernelspec": {
   "display_name": "Python 3 (ipykernel)",
   "language": "python",
   "name": "python3"
  },
  "language_info": {
   "codemirror_mode": {
    "name": "ipython",
    "version": 3
   },
   "file_extension": ".py",
   "mimetype": "text/x-python",
   "name": "python",
   "nbconvert_exporter": "python",
   "pygments_lexer": "ipython3",
   "version": "3.11.13"
  }
 },
 "nbformat": 4,
 "nbformat_minor": 5
}
